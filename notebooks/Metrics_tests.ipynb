{
 "cells": [
  {
   "cell_type": "code",
   "execution_count": 1,
   "metadata": {
    "collapsed": true
   },
   "outputs": [],
   "source": [
    "import matplotlib.pyplot as plt\n",
    "from PIL import Image\n",
    "import torchvision.transforms.functional as transform\n",
    "import torch\n",
    "import torch as t\n",
    "import itertools\n",
    "import EnsembleXAI.Metrics as M"
   ]
  },
  {
   "cell_type": "code",
   "execution_count": 15,
   "metadata": {
    "collapsed": false
   },
   "outputs": [
    {
     "name": "stdout",
     "output_type": "stream",
     "text": [
      "Downloading n01491361_9052.JPEG to ./images\n",
      "\n"
     ]
    },
    {
     "name": "stderr",
     "output_type": "stream",
     "text": [
      "\n",
      "  0%|          | 0.00/82.7k [00:00<?, ?B/s]\n",
      "100%|##########| 82.7k/82.7k [00:00<00:00, 4.11MB/s]\n"
     ]
    }
   ],
   "source": [
    "!kaggle competitions download -f \"/ILSVRC/Data/CLS-LOC/train/n01491361/n01491361_9052.JPEG\" -p ./images -c imagenet-object-localization-challenge --force"
   ]
  },
  {
   "cell_type": "code",
   "execution_count": 4,
   "metadata": {
    "collapsed": false
   },
   "outputs": [
    {
     "data": {
      "text/plain": [
       "torch.Size([3, 480, 640])"
      ]
     },
     "execution_count": 4,
     "metadata": {},
     "output_type": "execute_result"
    }
   ],
   "source": [
    "image = Image.open('PATH\\\\ImageNetS50\\\\train-semi-segmentation\\\\n01491361\\\\n01491361_9052.png')\n",
    "x = transform.to_tensor(image)\n",
    "x.shape"
   ]
  },
  {
   "cell_type": "code",
   "execution_count": 5,
   "metadata": {
    "collapsed": false
   },
   "outputs": [
    {
     "data": {
      "text/plain": [
       "tensor(False)"
      ]
     },
     "execution_count": 5,
     "metadata": {},
     "output_type": "execute_result"
    }
   ],
   "source": [
    "t.all(x[0] == 0)"
   ]
  },
  {
   "cell_type": "code",
   "execution_count": 6,
   "metadata": {
    "collapsed": false
   },
   "outputs": [],
   "source": [
    "logical_mask = t.any(x != 0, dim=-3, keepdim=True).squeeze()"
   ]
  },
  {
   "cell_type": "code",
   "execution_count": 7,
   "metadata": {
    "collapsed": false
   },
   "outputs": [
    {
     "data": {
      "text/plain": [
       "tensor(False)"
      ]
     },
     "execution_count": 7,
     "metadata": {},
     "output_type": "execute_result"
    }
   ],
   "source": [
    "t.all(logical_mask == 0)"
   ]
  },
  {
   "cell_type": "code",
   "execution_count": 8,
   "metadata": {
    "collapsed": false
   },
   "outputs": [
    {
     "data": {
      "text/plain": [
       "tensor([[0., 0., 0.,  ..., 0., 0., 0.],\n",
       "        [0., 0., 0.,  ..., 0., 0., 0.],\n",
       "        [0., 0., 0.,  ..., 0., 0., 0.],\n",
       "        ...,\n",
       "        [0., 0., 0.,  ..., 0., 0., 0.],\n",
       "        [0., 0., 0.,  ..., 0., 0., 0.],\n",
       "        [0., 0., 0.,  ..., 0., 0., 0.]])"
      ]
     },
     "execution_count": 8,
     "metadata": {},
     "output_type": "execute_result"
    }
   ],
   "source": [
    "logical_mask.float()"
   ]
  },
  {
   "cell_type": "code",
   "execution_count": 9,
   "metadata": {
    "collapsed": false
   },
   "outputs": [
    {
     "data": {
      "image/png": "[encoded data removed]",
      "text/plain": [
       "<Figure size 640x480 with 1 Axes>"
      ]
     },
     "metadata": {},
     "output_type": "display_data"
    }
   ],
   "source": [
    "plt.imshow(logical_mask)\n",
    "plt.show()"
   ]
  },
  {
   "cell_type": "code",
   "execution_count": 10,
   "metadata": {
    "collapsed": false
   },
   "outputs": [],
   "source": [
    "img = Image.open(\"PATH\\\\ImageNet\\\\n01491361\\\\n01491361_13773.JPEG\")\n",
    "x = transform.to_tensor(img)"
   ]
  },
  {
   "cell_type": "code",
   "execution_count": 11,
   "metadata": {
    "collapsed": false
   },
   "outputs": [
    {
     "data": {
      "text/plain": [
       "torch.Size([480, 640])"
      ]
     },
     "execution_count": 11,
     "metadata": {},
     "output_type": "execute_result"
    }
   ],
   "source": [
    "logical_mask.shape"
   ]
  },
  {
   "cell_type": "code",
   "execution_count": 11,
   "metadata": {
    "collapsed": false
   },
   "outputs": [],
   "source": [
    "reshaped_mask = logical_mask.repeat(3,1,1)"
   ]
  },
  {
   "cell_type": "code",
   "execution_count": 12,
   "metadata": {
    "collapsed": false
   },
   "outputs": [],
   "source": [
    "x[reshaped_mask] = 0"
   ]
  },
  {
   "cell_type": "code",
   "execution_count": 13,
   "metadata": {
    "collapsed": false
   },
   "outputs": [
    {
     "data": {
      "text/plain": [
       "tensor(0.)"
      ]
     },
     "execution_count": 13,
     "metadata": {},
     "output_type": "execute_result"
    }
   ],
   "source": [
    "x[0][180][250]"
   ]
  },
  {
   "cell_type": "markdown",
   "metadata": {
    "collapsed": false
   },
   "source": [
    "# Proper tests"
   ]
  },
  {
   "cell_type": "code",
   "execution_count": 14,
   "metadata": {
    "collapsed": false
   },
   "outputs": [],
   "source": [
    "import matplotlib.pyplot as plt\n",
    "from PIL import Image\n",
    "import torchvision.transforms.functional as transform\n",
    "import torch\n",
    "import torch as t\n",
    "import itertools\n",
    "import EnsembleXAI.Metrics as M"
   ]
  },
  {
   "cell_type": "code",
   "execution_count": 15,
   "metadata": {
    "collapsed": false
   },
   "outputs": [
    {
     "data": {
      "text/plain": [
       "tensor([[[False,  True, False],\n",
       "         [False,  True, False],\n",
       "         [False,  True, False]],\n",
       "\n",
       "        [[False,  True, False],\n",
       "         [False,  True, False],\n",
       "         [False,  True, False]]])"
      ]
     },
     "execution_count": 15,
     "metadata": {},
     "output_type": "execute_result"
    }
   ],
   "source": [
    "masks = torch.BoolTensor([[[False, True, False]]]).repeat(2,3,1)\n",
    "masks"
   ]
  },
  {
   "cell_type": "code",
   "execution_count": 16,
   "metadata": {
    "collapsed": false
   },
   "outputs": [
    {
     "data": {
      "text/plain": [
       "(torch.Size([2, 3, 3, 3]), torch.Size([2, 3, 3]))"
      ]
     },
     "execution_count": 16,
     "metadata": {},
     "output_type": "execute_result"
    }
   ],
   "source": [
    "images = torch.Tensor([[[[1,2,3], [4,5,6], [7,8,9]], [[1,2,3], [4,5,6], [7,8,9]], [[1,2,3], [4,5,6], [7,8,9]]]]).repeat(2,1,1,1)\n",
    "masks = torch.BoolTensor([[[False, True, False], [False, True, False], [False, True, False]]]).repeat(2,1,1)\n",
    "images.shape, masks.shape"
   ]
  },
  {
   "cell_type": "code",
   "execution_count": 17,
   "metadata": {
    "collapsed": false
   },
   "outputs": [],
   "source": [
    "x = M.replace_masks(images, masks, 0.1)"
   ]
  },
  {
   "cell_type": "code",
   "execution_count": 18,
   "metadata": {
    "collapsed": false
   },
   "outputs": [
    {
     "data": {
      "text/plain": [
       "tensor(True)"
      ]
     },
     "execution_count": 18,
     "metadata": {},
     "output_type": "execute_result"
    }
   ],
   "source": [
    "torch.all(x[:, :, :, 1]==0.1)"
   ]
  },
  {
   "cell_type": "code",
   "execution_count": 19,
   "metadata": {
    "collapsed": false
   },
   "outputs": [
    {
     "data": {
      "text/plain": [
       "tensor(True)"
      ]
     },
     "execution_count": 19,
     "metadata": {},
     "output_type": "execute_result"
    }
   ],
   "source": [
    "torch.all(x[:, :, :, [0,2]] == images[:, :, :, [0,2]])"
   ]
  },
  {
   "cell_type": "code",
   "execution_count": 20,
   "metadata": {
    "collapsed": false
   },
   "outputs": [],
   "source": [
    "def replace_masks(images: torch.Tensor, masks: torch.Tensor, value = 0) -> torch.Tensor:\n",
    "    temp_images = torch.clone(images)\n",
    "    reshaped_masks = masks.unsqueeze(dim=1).repeat(1, 3, 1, 1)\n",
    "    temp_images[reshaped_masks] = value\n",
    "    return temp_images"
   ]
  },
  {
   "cell_type": "code",
   "execution_count": 21,
   "metadata": {
    "collapsed": false
   },
   "outputs": [
    {
     "data": {
      "text/plain": [
       "tensor([[[False,  True, False],\n",
       "         [False,  True, False],\n",
       "         [False,  True, False]],\n",
       "\n",
       "        [[False,  True, False],\n",
       "         [False,  True, False],\n",
       "         [False,  True, False]]])"
      ]
     },
     "execution_count": 21,
     "metadata": {},
     "output_type": "execute_result"
    }
   ],
   "source": [
    "masks"
   ]
  },
  {
   "cell_type": "code",
   "execution_count": 22,
   "metadata": {
    "collapsed": false
   },
   "outputs": [
    {
     "data": {
      "text/plain": [
       "torch.Size([2, 3, 3, 3])"
      ]
     },
     "execution_count": 22,
     "metadata": {},
     "output_type": "execute_result"
    }
   ],
   "source": [
    "images.shape"
   ]
  },
  {
   "cell_type": "code",
   "execution_count": 23,
   "metadata": {
    "collapsed": false
   },
   "outputs": [
    {
     "data": {
      "text/plain": [
       "[torch.Size([3, 3]),\n",
       " torch.Size([3, 3]),\n",
       " torch.Size([3, 3]),\n",
       " torch.Size([3, 3]),\n",
       " torch.Size([3, 3]),\n",
       " torch.Size([3, 3])]"
      ]
     },
     "execution_count": 23,
     "metadata": {},
     "output_type": "execute_result"
    }
   ],
   "source": [
    "[x.shape for x in M.tensor_to_list_tensors(images, 2)]"
   ]
  },
  {
   "cell_type": "code",
   "execution_count": 24,
   "metadata": {
    "collapsed": false
   },
   "outputs": [
    {
     "data": {
      "text/plain": [
       "tensor(3.)"
      ]
     },
     "execution_count": 24,
     "metadata": {},
     "output_type": "execute_result"
    }
   ],
   "source": [
    "torch.linalg.matrix_norm(torch.ones([3,3]))"
   ]
  },
  {
   "cell_type": "code",
   "execution_count": 25,
   "metadata": {
    "collapsed": false
   },
   "outputs": [
    {
     "data": {
      "text/plain": [
       "tensor(16.)"
      ]
     },
     "execution_count": 25,
     "metadata": {},
     "output_type": "execute_result"
    }
   ],
   "source": [
    "M.matrix_2_norm(2*torch.ones(4,4,4), torch.zeros(4,4,4), sum_dim=-1)"
   ]
  },
  {
   "cell_type": "code",
   "execution_count": 26,
   "metadata": {
    "collapsed": false
   },
   "outputs": [],
   "source": [
    "plus_2d = torch.Tensor([[0, 1, 0],\n",
    "                                [1, 1, 1],\n",
    "                                [0, 1, 0]])\n",
    "cross_2d = torch.Tensor([[1, 0, 1],\n",
    "                         [0, 1, 0],\n",
    "                         [1, 0, 1]])\n",
    "intersect = M.intersection_mask(plus_2d, cross_2d)"
   ]
  },
  {
   "cell_type": "code",
   "execution_count": 27,
   "metadata": {
    "collapsed": false
   },
   "outputs": [],
   "source": [
    "intersect[1,1] = False"
   ]
  },
  {
   "cell_type": "code",
   "execution_count": 28,
   "metadata": {
    "collapsed": false
   },
   "outputs": [
    {
     "data": {
      "text/plain": [
       "tensor(False)"
      ]
     },
     "execution_count": 28,
     "metadata": {},
     "output_type": "execute_result"
    }
   ],
   "source": [
    "torch.any(intersect)"
   ]
  },
  {
   "cell_type": "code",
   "execution_count": 29,
   "metadata": {
    "collapsed": false
   },
   "outputs": [],
   "source": [
    "plus_threshold_2d = torch.Tensor([[0, 0.2, 0],\n",
    "                                          [0.5, 0.7, 0.5],\n",
    "                                          [0, 0.2, 0]])\n",
    "blus_threshold_2d = torch.Tensor([[0, 1, 0],\n",
    "                                  [1, 1, 1],\n",
    "                                  [0, 1, 0]])\n",
    "intersect = M.intersection_mask(plus_threshold_2d, blus_threshold_2d, threshold1=0.3)"
   ]
  },
  {
   "cell_type": "code",
   "execution_count": 30,
   "metadata": {
    "collapsed": false
   },
   "outputs": [
    {
     "data": {
      "text/plain": [
       "tensor([[False, False, False],\n",
       "        [ True,  True,  True],\n",
       "        [False, False, False]])"
      ]
     },
     "execution_count": 30,
     "metadata": {},
     "output_type": "execute_result"
    }
   ],
   "source": [
    "intersect"
   ]
  },
  {
   "cell_type": "code",
   "execution_count": 31,
   "metadata": {
    "collapsed": false
   },
   "outputs": [
    {
     "data": {
      "text/plain": [
       "tensor([True, True, True])"
      ]
     },
     "execution_count": 31,
     "metadata": {},
     "output_type": "execute_result"
    }
   ],
   "source": [
    "intersect[1]"
   ]
  },
  {
   "cell_type": "code",
   "execution_count": 32,
   "metadata": {
    "collapsed": false
   },
   "outputs": [],
   "source": [
    "plus_2d = torch.Tensor([[0, 1, 0],\n",
    "                        [1, 1, 1],\n",
    "                        [0, 1, 0]])\n",
    "cross_2d = torch.Tensor([[1, 0, 1],\n",
    "                         [0, 1, 0],\n",
    "                         [1, 0, 1]])\n",
    "union = M.union_mask(plus_2d, cross_2d)"
   ]
  },
  {
   "cell_type": "code",
   "execution_count": 33,
   "metadata": {
    "collapsed": false
   },
   "outputs": [
    {
     "data": {
      "text/plain": [
       "tensor([[True, True, True],\n",
       "        [True, True, True],\n",
       "        [True, True, True]])"
      ]
     },
     "execution_count": 33,
     "metadata": {},
     "output_type": "execute_result"
    }
   ],
   "source": [
    "union"
   ]
  },
  {
   "cell_type": "code",
   "execution_count": 34,
   "metadata": {
    "collapsed": false
   },
   "outputs": [],
   "source": [
    "union_threshold_a = torch.Tensor([[1, 0.4, 1],\n",
    "                                  [1, 0.4, 1],\n",
    "                                  [0, 0, 0]])\n",
    "union_threshold_b = torch.Tensor([[0, 0, 0],\n",
    "                                  [0, 0, 0],\n",
    "                                  [0.6, 0.6, 0.6]])\n",
    "union = M.union_mask(union_threshold_a, union_threshold_b, threshold1=0.5)"
   ]
  },
  {
   "cell_type": "code",
   "execution_count": 35,
   "metadata": {
    "collapsed": false
   },
   "outputs": [
    {
     "data": {
      "text/plain": [
       "tensor([[ True, False,  True],\n",
       "        [ True, False,  True],\n",
       "        [ True,  True,  True]])"
      ]
     },
     "execution_count": 35,
     "metadata": {},
     "output_type": "execute_result"
    }
   ],
   "source": [
    "union"
   ]
  },
  {
   "cell_type": "code",
   "execution_count": 36,
   "metadata": {
    "collapsed": false
   },
   "outputs": [
    {
     "data": {
      "text/plain": [
       "tensor(True)"
      ]
     },
     "execution_count": 36,
     "metadata": {},
     "output_type": "execute_result"
    }
   ],
   "source": [
    "correct_union_05 = torch.BoolTensor([[True, False,  True],\n",
    "                                     [True, False,  True],\n",
    "                                     [True,  True,  True]])\n",
    "torch.all(union==correct_union_05)"
   ]
  },
  {
   "cell_type": "code",
   "execution_count": 37,
   "metadata": {
    "collapsed": false
   },
   "outputs": [],
   "source": [
    "ones = torch.Tensor([1]).repeat(3, 4, 10, 10)\n",
    "twos = 2*torch.Tensor([1]).repeat(3, 4, 10, 10)\n",
    "tensor = torch.cat([ones, twos])\n",
    "xyz = M.tensor_to_list_tensors(tensor, depth=2)\n",
    "diffs = [\n",
    "    M.matrix_2_norm(exp1, exp2).item()\n",
    "    for exp1, exp2 in itertools.combinations(xyz, 2)\n",
    "]"
   ]
  },
  {
   "cell_type": "code",
   "execution_count": 38,
   "metadata": {
    "collapsed": false
   },
   "outputs": [
    {
     "data": {
      "text/plain": [
       "torch.Size([6, 4, 10, 10])"
      ]
     },
     "execution_count": 38,
     "metadata": {},
     "output_type": "execute_result"
    }
   ],
   "source": [
    "torch.cat([ones, twos]).shape"
   ]
  },
  {
   "cell_type": "code",
   "execution_count": 39,
   "metadata": {
    "collapsed": false
   },
   "outputs": [
    {
     "data": {
      "text/plain": [
       "0.09090909879069752"
      ]
     },
     "execution_count": 39,
     "metadata": {},
     "output_type": "execute_result"
    }
   ],
   "source": [
    "1/(max(diffs)+1)"
   ]
  },
  {
   "cell_type": "code",
   "execution_count": 40,
   "metadata": {
    "collapsed": false
   },
   "outputs": [
    {
     "data": {
      "text/plain": [
       "0.09090910106897354"
      ]
     },
     "execution_count": 40,
     "metadata": {},
     "output_type": "execute_result"
    }
   ],
   "source": [
    "M.consistency(tensor)\n",
    "# test confidence impact ratio i decision impact ratio i stability i wszystko xd"
   ]
  },
  {
   "cell_type": "markdown",
   "metadata": {
    "collapsed": false
   },
   "source": [
    "# TEST STABILITY"
   ]
  },
  {
   "cell_type": "code",
   "execution_count": 41,
   "metadata": {
    "collapsed": false
   },
   "outputs": [
    {
     "data": {
      "text/plain": [
       "<function EnsembleXAI.Metrics.stability(explanator: Callable, image: torch.Tensor, images_to_compare: torch.Tensor, epsilon: float = 0.1) -> torch.Tensor>"
      ]
     },
     "execution_count": 41,
     "metadata": {},
     "output_type": "execute_result"
    }
   ],
   "source": [
    "M.stability"
   ]
  },
  {
   "cell_type": "code",
   "execution_count": 2,
   "metadata": {
    "collapsed": false
   },
   "outputs": [],
   "source": [
    "def predict_dummy(tensor: torch.Tensor, classes=1000):\n",
    "    return torch.ones([tensor.shape[0], classes])/classes"
   ]
  },
  {
   "cell_type": "code",
   "execution_count": 43,
   "metadata": {
    "collapsed": false
   },
   "outputs": [],
   "source": [
    "n = 100\n",
    "images_tensor = torch.ones([n, 3, 32, 32])\n",
    "expls = torch.randn([n, 1, 32, 32])"
   ]
  },
  {
   "cell_type": "code",
   "execution_count": 44,
   "metadata": {
    "collapsed": false
   },
   "outputs": [],
   "source": [
    "a, b = M._impact_ratio_helper(images_tensor, predict_dummy, expls, 0, 0.5)"
   ]
  },
  {
   "cell_type": "code",
   "execution_count": 45,
   "metadata": {
    "collapsed": false
   },
   "outputs": [
    {
     "data": {
      "text/plain": [
       "tensor(True)"
      ]
     },
     "execution_count": 45,
     "metadata": {},
     "output_type": "execute_result"
    }
   ],
   "source": [
    "torch.all(a==0.0010)"
   ]
  },
  {
   "cell_type": "code",
   "execution_count": 46,
   "metadata": {
    "collapsed": false
   },
   "outputs": [],
   "source": [
    "c, d = torch.max(a, 1)"
   ]
  },
  {
   "cell_type": "code",
   "execution_count": 47,
   "metadata": {
    "collapsed": false
   },
   "outputs": [
    {
     "data": {
      "text/plain": [
       "tensor([1., 1., 1., 1., 1., 1., 1., 1., 1., 1., 1., 1., 1., 1., 1., 1., 1., 1.,\n",
       "        1., 1., 1., 1., 1., 1., 1., 1., 1., 1., 1., 1., 1., 1., 1., 1., 1., 1.,\n",
       "        1., 1., 1., 1., 1., 1., 1., 1., 1., 1., 1., 1., 1., 1., 1., 1., 1., 1.,\n",
       "        1., 1., 1., 1., 1., 1., 1., 1., 1., 1., 1., 1., 1., 1., 1., 1., 1., 1.,\n",
       "        1., 1., 1., 1., 1., 1., 1., 1., 1., 1., 1., 1., 1., 1., 1., 1., 1., 1.,\n",
       "        1., 1., 1., 1., 1., 1., 1., 1., 1., 1.])"
      ]
     },
     "execution_count": 47,
     "metadata": {},
     "output_type": "execute_result"
    }
   ],
   "source": [
    "(d == torch.zeros([100])).float()"
   ]
  },
  {
   "cell_type": "code",
   "execution_count": 48,
   "metadata": {
    "collapsed": false
   },
   "outputs": [],
   "source": [
    "n = 100\n",
    "images_tensor = torch.ones([n, 3, 32, 32])\n",
    "expls = torch.randn([n, 1, 32, 32])\n",
    "baseline = 0\n",
    "threshold = 0.5\n",
    "org = M.decision_impact_ratio(images_tensor, predict_dummy, expls, threshold, baseline)"
   ]
  },
  {
   "cell_type": "code",
   "execution_count": 49,
   "metadata": {
    "collapsed": false
   },
   "outputs": [
    {
     "data": {
      "text/plain": [
       "0.0"
      ]
     },
     "execution_count": 49,
     "metadata": {},
     "output_type": "execute_result"
    }
   ],
   "source": [
    "org"
   ]
  },
  {
   "cell_type": "code",
   "execution_count": 50,
   "metadata": {
    "collapsed": false
   },
   "outputs": [
    {
     "data": {
      "text/plain": [
       "torch.Size([100, 1000])"
      ]
     },
     "execution_count": 50,
     "metadata": {},
     "output_type": "execute_result"
    }
   ],
   "source": [
    "b.shape"
   ]
  },
  {
   "cell_type": "code",
   "execution_count": 51,
   "metadata": {
    "collapsed": false
   },
   "outputs": [],
   "source": [
    "n = 100\n",
    "images_tensor = torch.ones([n, 3, 32, 32])\n",
    "expls = torch.randn([n, 1, 32, 32])\n",
    "baseline = 0\n",
    "threshold = 0.5\n",
    "value = M.confidence_impact_ratio(images_tensor, predict_dummy, expls, threshold, baseline)"
   ]
  },
  {
   "cell_type": "code",
   "execution_count": 52,
   "metadata": {
    "collapsed": false
   },
   "outputs": [
    {
     "data": {
      "text/plain": [
       "0.0"
      ]
     },
     "execution_count": 52,
     "metadata": {},
     "output_type": "execute_result"
    }
   ],
   "source": [
    "value"
   ]
  },
  {
   "cell_type": "code",
   "execution_count": 53,
   "metadata": {
    "collapsed": false
   },
   "outputs": [
    {
     "data": {
      "text/plain": [
       "tensor([0.])"
      ]
     },
     "execution_count": 53,
     "metadata": {},
     "output_type": "execute_result"
    }
   ],
   "source": [
    "simple_explanation = plus_2d.unsqueeze(0).unsqueeze(0)/2\n",
    "simple_mask = plus_2d.unsqueeze(0)\n",
    "M.accordance_recall(simple_explanation, simple_mask, threshold=0.6)"
   ]
  },
  {
   "cell_type": "code",
   "execution_count": 54,
   "metadata": {
    "collapsed": false
   },
   "outputs": [],
   "source": [
    "def val(expl, mask, metric):\n",
    "    expl = expl.unsqueeze(0).unsqueeze(0)\n",
    "    mask = mask.unsqueeze(0)\n",
    "    return metric(expl, mask)"
   ]
  },
  {
   "cell_type": "code",
   "execution_count": 55,
   "metadata": {
    "collapsed": false
   },
   "outputs": [
    {
     "data": {
      "text/plain": [
       "tensor([0.2000])"
      ]
     },
     "execution_count": 55,
     "metadata": {},
     "output_type": "execute_result"
    }
   ],
   "source": [
    "val(plus_2d, cross_2d, M.accordance_recall)"
   ]
  },
  {
   "cell_type": "code",
   "execution_count": 56,
   "metadata": {
    "collapsed": false
   },
   "outputs": [
    {
     "data": {
      "text/plain": [
       "tensor([0.2000])"
      ]
     },
     "execution_count": 56,
     "metadata": {},
     "output_type": "execute_result"
    }
   ],
   "source": [
    "val(cross_2d, plus_2d, M.accordance_recall)"
   ]
  },
  {
   "cell_type": "code",
   "execution_count": 57,
   "metadata": {
    "collapsed": false
   },
   "outputs": [
    {
     "data": {
      "text/plain": [
       "tensor([1.])"
      ]
     },
     "execution_count": 57,
     "metadata": {},
     "output_type": "execute_result"
    }
   ],
   "source": [
    "val(plus_2d, plus_2d, M.accordance_recall)"
   ]
  },
  {
   "cell_type": "code",
   "execution_count": 58,
   "metadata": {
    "collapsed": false
   },
   "outputs": [
    {
     "data": {
      "text/plain": [
       "0.20000000298023224"
      ]
     },
     "execution_count": 58,
     "metadata": {},
     "output_type": "execute_result"
    }
   ],
   "source": [
    "val(plus_2d, cross_2d, M.accordance_precision).item()"
   ]
  },
  {
   "cell_type": "code",
   "execution_count": 59,
   "metadata": {
    "collapsed": false
   },
   "outputs": [
    {
     "data": {
      "text/plain": [
       "0.20000000298023224"
      ]
     },
     "execution_count": 59,
     "metadata": {},
     "output_type": "execute_result"
    }
   ],
   "source": [
    "val(cross_2d, plus_2d, M.accordance_precision).item()"
   ]
  },
  {
   "cell_type": "code",
   "execution_count": 60,
   "metadata": {
    "collapsed": false
   },
   "outputs": [
    {
     "data": {
      "text/plain": [
       "1.0"
      ]
     },
     "execution_count": 60,
     "metadata": {},
     "output_type": "execute_result"
    }
   ],
   "source": [
    "val(plus_2d, plus_2d, M.accordance_precision).item()"
   ]
  },
  {
   "cell_type": "code",
   "execution_count": 61,
   "metadata": {
    "collapsed": false
   },
   "outputs": [],
   "source": [
    "expl = torch.cat((plus_2d.unsqueeze(0).unsqueeze(0), cross_2d.unsqueeze(0).unsqueeze(0)))\n",
    "mask = torch.cat((cross_2d.unsqueeze(0), plus_2d.unsqueeze(0)))\n",
    "acc_recall = M.accordance_recall(expl, mask)\n",
    "acc_prec = M.accordance_precision(expl, mask)"
   ]
  },
  {
   "cell_type": "code",
   "execution_count": 62,
   "metadata": {
    "collapsed": false
   },
   "outputs": [],
   "source": [
    "values = 2 * (acc_recall * acc_prec) / (acc_recall + acc_prec)\n",
    "value = torch.sum(values) / values.shape[0]"
   ]
  },
  {
   "cell_type": "code",
   "execution_count": 63,
   "metadata": {
    "collapsed": false
   },
   "outputs": [
    {
     "data": {
      "text/plain": [
       "tensor([0.2000, 0.2000])"
      ]
     },
     "execution_count": 63,
     "metadata": {},
     "output_type": "execute_result"
    }
   ],
   "source": [
    "values"
   ]
  },
  {
   "cell_type": "code",
   "execution_count": 64,
   "metadata": {
    "collapsed": false
   },
   "outputs": [
    {
     "data": {
      "text/plain": [
       "tensor(0.2000)"
      ]
     },
     "execution_count": 64,
     "metadata": {},
     "output_type": "execute_result"
    }
   ],
   "source": [
    "value"
   ]
  },
  {
   "cell_type": "code",
   "execution_count": 65,
   "metadata": {
    "collapsed": false
   },
   "outputs": [
    {
     "data": {
      "text/plain": [
       "0.20000001788139343"
      ]
     },
     "execution_count": 65,
     "metadata": {},
     "output_type": "execute_result"
    }
   ],
   "source": [
    "M.F1_score(expl, mask)"
   ]
  },
  {
   "cell_type": "code",
   "execution_count": 70,
   "metadata": {
    "collapsed": false
   },
   "outputs": [
    {
     "data": {
      "text/plain": [
       "0.1111111119389534"
      ]
     },
     "execution_count": 70,
     "metadata": {},
     "output_type": "execute_result"
    }
   ],
   "source": [
    "M.intersection_over_union(expl, mask)"
   ]
  },
  {
   "cell_type": "code",
   "execution_count": 66,
   "metadata": {
    "collapsed": false
   },
   "outputs": [
    {
     "data": {
      "text/plain": [
       "tensor([0.2000, 0.2000])"
      ]
     },
     "execution_count": 66,
     "metadata": {},
     "output_type": "execute_result"
    }
   ],
   "source": [
    "acc_prec"
   ]
  },
  {
   "cell_type": "code",
   "execution_count": 67,
   "metadata": {
    "collapsed": false
   },
   "outputs": [
    {
     "data": {
      "text/plain": [
       "tensor([0.2000, 0.2000])"
      ]
     },
     "execution_count": 67,
     "metadata": {},
     "output_type": "execute_result"
    }
   ],
   "source": [
    "acc_recall"
   ]
  },
  {
   "cell_type": "code",
   "execution_count": 68,
   "metadata": {
    "collapsed": false
   },
   "outputs": [],
   "source": [
    "squeezed_expl = expl.squeeze(dim=1)\n",
    "overlaping_area = M.intersection_mask(squeezed_expl, mask, threshold1=threshold)\n",
    "divisor = torch.sum(torch.abs(squeezed_expl) > threshold, dim=(-2, -1))\n",
    "value = torch.sum(overlaping_area, dim=(-2, -1)) / divisor"
   ]
  },
  {
   "cell_type": "code",
   "execution_count": 69,
   "metadata": {
    "collapsed": false
   },
   "outputs": [
    {
     "data": {
      "text/plain": [
       "tensor([0.2000, 0.2000])"
      ]
     },
     "execution_count": 69,
     "metadata": {},
     "output_type": "execute_result"
    }
   ],
   "source": [
    "torch.sum(overlaping_area, dim=(-2, -1))/divisor"
   ]
  },
  {
   "cell_type": "code",
   "execution_count": 76,
   "metadata": {
    "collapsed": false
   },
   "outputs": [],
   "source": [
    "def predict_dummy2(input_tensor, n_classes = 1000):\n",
    "    n = input_tensor.shape[0]\n",
    "    half_classes = n_classes//2\n",
    "    third_classes = n_classes//3\n",
    "    quarter_classes = n_classes//4\n",
    "    if torch.sum(input_tensor).item() > 300000:\n",
    "        preds = torch.cat([torch.zeros([n, n_classes - quarter_classes]), 0.004*torch.ones([n, quarter_classes])], dim=1)\n",
    "    elif torch.sum(input_tensor).item() > 200000:\n",
    "        preds = torch.cat([torch.zeros([n, n_classes - third_classes]), 0.0033*torch.ones([n, third_classes])], dim=1)\n",
    "    else:\n",
    "        preds = torch.cat([torch.zeros([n, n_classes - half_classes]), 0.002*torch.ones([n, half_classes])], dim=1)\n",
    "    return preds"
   ]
  },
  {
   "cell_type": "code",
   "execution_count": 70,
   "metadata": {
    "collapsed": false
   },
   "outputs": [],
   "source": [
    "n = 100\n",
    "images_tensor = torch.ones([n, 3, 32, 32])\n",
    "expls = torch.Tensor([0, 0.3, 0.6, 1]).repeat(8).repeat(n, 3, 32, 1)\n",
    "val = M.decision_impact_ratio(images_tensor, predict_dummy2, expls, 0, 0)"
   ]
  },
  {
   "cell_type": "code",
   "execution_count": 79,
   "metadata": {
    "collapsed": false
   },
   "outputs": [
    {
     "data": {
      "text/plain": [
       "0.0020000000949949026"
      ]
     },
     "execution_count": 79,
     "metadata": {},
     "output_type": "execute_result"
    }
   ],
   "source": [
    "val1 = Metrics.confidence_impact_ratio(images_tensor, predict_dummy2, expls, 0, 0.4)\n",
    "val2 = Metrics.confidence_impact_ratio(images_tensor, predict_dummy2, expls, 0, 0.7)\n",
    "val3 = Metrics.confidence_impact_ratio(images_tensor, predict_dummy2, expls, 0, 1)"
   ]
  },
  {
   "cell_type": "code",
   "execution_count": 80,
   "metadata": {
    "collapsed": false
   },
   "outputs": [
    {
     "data": {
      "text/plain": [
       "0.0007000001496635377"
      ]
     },
     "execution_count": 80,
     "metadata": {},
     "output_type": "execute_result"
    }
   ],
   "source": [
    "M.confidence_impact_ratio(images_tensor, predict_dummy2, expls, 0, 0.7)"
   ]
  },
  {
   "cell_type": "code",
   "execution_count": 81,
   "metadata": {
    "collapsed": false
   },
   "outputs": [
    {
     "data": {
      "text/plain": [
       "0.0"
      ]
     },
     "execution_count": 81,
     "metadata": {},
     "output_type": "execute_result"
    }
   ],
   "source": [
    "M.confidence_impact_ratio(images_tensor, predict_dummy2, expls, 0, 1)"
   ]
  },
  {
   "cell_type": "code",
   "execution_count": 66,
   "metadata": {
    "collapsed": false
   },
   "outputs": [
    {
     "data": {
      "text/plain": [
       "0.0"
      ]
     },
     "execution_count": 66,
     "metadata": {},
     "output_type": "execute_result"
    }
   ],
   "source": [
    "n = images_tensor.shape[0]\n",
    "# predictor returns probabilities in a tensor format\n",
    "probs_original, probs_modified = M._impact_ratio_helper(\n",
    "    images_tensor, predict_dummy2, expls, 0.4, 1\n",
    ")\n",
    "_, preds_original = torch.max(probs_original, 1)\n",
    "_, preds_modified = torch.max(probs_modified, 1)\n",
    "value = torch.sum((preds_original != preds_modified).float()) / n\n",
    "value.item()"
   ]
  },
  {
   "cell_type": "code",
   "execution_count": 65,
   "metadata": {
    "collapsed": false
   },
   "outputs": [
    {
     "data": {
      "text/plain": [
       "tensor(0.)"
      ]
     },
     "execution_count": 65,
     "metadata": {},
     "output_type": "execute_result"
    }
   ],
   "source": [
    "torch.sum((preds_original != preds_original).float()) / n"
   ]
  },
  {
   "cell_type": "code",
   "execution_count": 67,
   "metadata": {
    "collapsed": false
   },
   "outputs": [
    {
     "data": {
      "text/plain": [
       "tensor([500, 500, 500, 500, 500, 500, 500, 500, 500, 500, 500, 500, 500, 500,\n",
       "        500, 500, 500, 500, 500, 500, 500, 500, 500, 500, 500, 500, 500, 500,\n",
       "        500, 500, 500, 500, 500, 500, 500, 500, 500, 500, 500, 500, 500, 500,\n",
       "        500, 500, 500, 500, 500, 500, 500, 500, 500, 500, 500, 500, 500, 500,\n",
       "        500, 500, 500, 500, 500, 500, 500, 500, 500, 500, 500, 500, 500, 500,\n",
       "        500, 500, 500, 500, 500, 500, 500, 500, 500, 500, 500, 500, 500, 500,\n",
       "        500, 500, 500, 500, 500, 500, 500, 500, 500, 500, 500, 500, 500, 500,\n",
       "        500, 500])"
      ]
     },
     "execution_count": 67,
     "metadata": {},
     "output_type": "execute_result"
    }
   ],
   "source": [
    "preds_original"
   ]
  },
  {
   "cell_type": "code",
   "execution_count": 69,
   "metadata": {
    "collapsed": false
   },
   "outputs": [
    {
     "data": {
      "text/plain": [
       "tensor([556, 466, 330,  63, 191, 248, 247, 597, 627, 593, 342,  88, 805,  48,\n",
       "        497, 927, 414,  10, 172, 483, 322, 541, 546, 812, 345, 306, 973, 720,\n",
       "        791, 280, 142, 361, 341,  90, 440, 569, 473, 408, 178, 809,  85, 856,\n",
       "        486, 507, 685, 846,  70, 423, 150, 618, 332, 438, 229, 350, 505, 687,\n",
       "        580, 922, 759, 782,  95, 517,  55, 106, 279, 170, 481, 625, 140, 174,\n",
       "        815, 747, 987,  27, 651, 222, 143, 993, 590, 221, 722, 427, 159, 941,\n",
       "        925,  20, 207, 230, 774, 193, 412, 596, 695, 908, 617,  25, 863, 628,\n",
       "        296, 775, 691, 660, 565, 594, 990, 688, 595, 708,   1, 948, 545,  93,\n",
       "        398, 642, 474,  14, 634, 581, 970, 820, 454,  81, 111, 723, 269, 255,\n",
       "        553,  38, 587, 681, 301,  66, 124, 935, 883, 647, 773, 844, 311, 664,\n",
       "        869, 656, 853,  43, 224,  26, 392, 500, 323, 919,  29, 694,  87, 540,\n",
       "        740, 967, 793, 889, 674, 435, 395, 356, 963, 145, 547, 710, 756, 792,\n",
       "        607, 952, 499, 934, 234, 271, 119, 989, 104, 671, 112, 717, 364, 732,\n",
       "        205, 649, 134, 969, 476, 988, 751, 128, 308, 275, 471, 898, 544, 219,\n",
       "        422, 415, 365, 195, 333, 445, 249, 289, 659, 778, 860, 562, 786, 472,\n",
       "        123, 576, 975, 410, 155, 652, 316,  62, 555, 177, 680, 227, 312, 425,\n",
       "        182, 290, 339, 401, 475, 165,  82,  42, 721, 527, 991, 218, 265,  24,\n",
       "        572, 536, 461, 110,  53, 439, 997, 368, 511, 847, 744, 152, 579, 250,\n",
       "        314, 624, 737, 329, 413, 829, 324, 905, 117, 831, 897, 697,  33, 612,\n",
       "        895, 402, 115, 760, 980, 283, 861,  59, 621, 242, 127, 465, 881, 589,\n",
       "        153, 478, 336,  91,  64, 608, 228, 292, 877, 669, 926, 626, 693, 509,\n",
       "        444, 188, 566, 362,  92,  49,  65, 404, 246, 891, 678, 118,  68, 918,\n",
       "        451, 643, 429, 808, 532, 978,  86, 383, 192, 979, 718, 520, 910, 762,\n",
       "        614, 994,  76,  19, 183, 781,  39, 108, 535, 135, 686, 811, 724, 741,\n",
       "        453, 920, 841, 828, 971, 943,   3, 623, 216, 867, 537, 924, 837, 173,\n",
       "        167, 411, 901, 433, 523, 726, 206, 638, 673, 328, 757, 239, 633, 825,\n",
       "        716, 198, 524, 558, 797, 252, 838, 488, 462, 959, 833, 916, 276,  99,\n",
       "        403, 890, 277, 202, 282, 977, 637, 220, 709, 491, 391, 769, 261, 448,\n",
       "        129, 552, 235, 487, 806, 200, 742, 754, 335, 196, 348, 105, 305, 830,\n",
       "        353, 645, 849,   0, 295,  84,  46, 432, 148, 743, 157, 521, 238, 302,\n",
       "        382, 799, 712,   5, 447, 431, 351, 803, 822, 745, 522, 122, 871, 490,\n",
       "        347, 794, 376, 668, 984, 843, 363, 480, 923, 929, 876, 131, 896, 598,\n",
       "        210, 728, 931, 515,  45, 260, 763, 102, 299,  98, 244, 443, 384, 325,\n",
       "        986, 738, 211, 542,  80,  60, 840, 479, 675,  96,  12, 138, 648, 355,\n",
       "        851,  77, 549, 203, 326, 136, 321, 379, 194, 125, 331, 568, 761, 832,\n",
       "        679, 912,  74, 346, 374, 622, 940, 672, 864, 930, 966, 397, 113, 456,\n",
       "        460,  97, 470, 588, 684, 264, 185, 998, 962,  94, 284, 873,   4, 655,\n",
       "        116, 706, 320, 340, 591, 827, 650, 166, 373, 945, 548, 300, 836,  44,\n",
       "        561, 981, 215, 657, 795, 107,  47, 875,  21, 559, 406, 358, 217, 160,\n",
       "        944, 753, 748, 610, 137, 764, 796, 327, 512,  37, 801, 419, 772, 421,\n",
       "        749, 701, 777, 766, 599, 304,  36, 504, 658, 151, 574, 605, 663, 492,\n",
       "        976, 992, 477,  69, 531, 878, 913, 755, 632, 352, 510, 560, 187, 270,\n",
       "        661, 377, 583, 496, 380,  22, 858, 937, 662, 162, 214, 892, 968, 416,\n",
       "        949, 513, 690, 405,  30, 109, 955,  72, 705, 291, 939, 144, 725, 711,\n",
       "        995, 839, 942, 719, 467, 498, 455, 237, 223, 887, 868, 367, 682, 909,\n",
       "        399, 787, 714, 703, 859, 508,  40, 262, 571, 441, 882, 518, 914,  89,\n",
       "         32, 274, 184,  79, 954, 676,  56,  54, 894, 573,  57, 866,  50, 309,\n",
       "        613, 201, 996, 469, 746,  73, 169, 707, 692, 601, 620, 932, 780, 428,\n",
       "        585, 567, 285, 604, 417, 146, 907, 485, 503, 956,   9, 768, 577, 420,\n",
       "        197, 904, 298, 960,  52, 641,   8, 615, 319, 525, 816, 584, 958, 130,\n",
       "        771, 770, 982, 400, 343, 677, 903, 609,  61, 865, 611, 132,  58, 501,\n",
       "        519, 810, 776, 338, 141, 317, 154, 190, 369, 700, 199, 267, 385, 727,\n",
       "        835, 699, 665, 888, 175, 670, 407, 204, 225, 357, 823, 817, 570, 370,\n",
       "        186, 938,  15, 915, 735, 253, 430, 164, 646, 870, 528, 818, 848, 629,\n",
       "        179, 788,  75,  17, 964, 702, 842, 371, 900, 482, 426, 554, 530, 767,\n",
       "        390, 484, 258, 449,  67, 514, 906, 294, 452, 437, 640, 463, 534, 965,\n",
       "        689, 288, 209, 807, 921, 783, 696, 538,   7, 885, 785, 468, 254, 551,\n",
       "        307, 121, 936, 857, 313, 539, 360, 974, 736, 917, 344,  31, 372, 156,\n",
       "         18, 158, 263, 103, 946, 278, 800, 933, 396, 575, 862,  35, 126, 354,\n",
       "        272, 884, 161, 874, 394, 654, 388, 241, 189, 287, 972, 804, 212, 489,\n",
       "        899, 957, 257,  78, 245, 789, 147, 826, 653, 734, 409, 879,  28,  71,\n",
       "        387, 232, 266, 667, 381, 893, 636, 814, 315, 393, 446, 603, 434, 458,\n",
       "        120, 375, 389, 834, 950, 176,  51, 493, 813, 359, 635, 310, 533, 731,\n",
       "        961, 163, 683, 378, 752, 100, 704, 133, 790, 852, 303, 268, 457,  13,\n",
       "        750, 616, 733, 181, 630, 631,   6, 180, 442, 171, 602, 819, 459, 226,\n",
       "        765, 606, 495, 824, 213, 582, 999, 243, 951, 168, 902, 730, 337, 259,\n",
       "        784, 600, 231, 758,  11, 293,  34, 450, 208, 424,  41, 911, 855, 366,\n",
       "        557, 114, 516, 578, 550, 729,   2, 698, 386, 502, 286, 586, 139, 418,\n",
       "        529, 639, 297, 872, 928, 236, 953, 644, 619, 349, 543, 739, 506,  16,\n",
       "        233, 251, 563, 149, 526, 436, 985, 256, 713, 666, 850, 281, 947, 845,\n",
       "        334, 880,  83, 240, 854, 886, 821, 494, 464, 798, 983, 802, 318, 715,\n",
       "        273,  23, 592, 779, 101, 564])"
      ]
     },
     "execution_count": 69,
     "metadata": {},
     "output_type": "execute_result"
    }
   ],
   "source": [
    "torch.randperm(1000)"
   ]
  },
  {
   "cell_type": "code",
   "execution_count": 82,
   "metadata": {
    "collapsed": false
   },
   "outputs": [],
   "source": [
    "n = 100\n",
    "images_tensor = torch.ones([n, 3, 32, 32])\n",
    "expls = torch.Tensor([0, 0.3, 0.6, 1]).repeat(8).repeat(n, 3, 32, 1)\n",
    "org, mod = M._impact_ratio_helper(\n",
    "    images_tensor, predict_dummy2, expls, 0.4, 0\n",
    ")"
   ]
  },
  {
   "cell_type": "code",
   "execution_count": 86,
   "metadata": {
    "collapsed": false
   },
   "outputs": [
    {
     "data": {
      "text/plain": [
       "tensor([[0., 0., 0.,  ..., 0., 0., 0.],\n",
       "        [0., 0., 0.,  ..., 0., 0., 0.],\n",
       "        [0., 0., 0.,  ..., 0., 0., 0.],\n",
       "        ...,\n",
       "        [0., 0., 0.,  ..., 0., 0., 0.],\n",
       "        [0., 0., 0.,  ..., 0., 0., 0.],\n",
       "        [0., 0., 0.,  ..., 0., 0., 0.]])"
      ]
     },
     "execution_count": 86,
     "metadata": {},
     "output_type": "execute_result"
    }
   ],
   "source": [
    "org[:, :750]"
   ]
  },
  {
   "cell_type": "code",
   "execution_count": 84,
   "metadata": {
    "collapsed": false
   },
   "outputs": [
    {
     "data": {
      "text/plain": [
       "tensor([[0.0000, 0.0000, 0.0000,  ..., 0.0020, 0.0020, 0.0020],\n",
       "        [0.0000, 0.0000, 0.0000,  ..., 0.0020, 0.0020, 0.0020],\n",
       "        [0.0000, 0.0000, 0.0000,  ..., 0.0020, 0.0020, 0.0020],\n",
       "        ...,\n",
       "        [0.0000, 0.0000, 0.0000,  ..., 0.0020, 0.0020, 0.0020],\n",
       "        [0.0000, 0.0000, 0.0000,  ..., 0.0020, 0.0020, 0.0020],\n",
       "        [0.0000, 0.0000, 0.0000,  ..., 0.0020, 0.0020, 0.0020]])"
      ]
     },
     "execution_count": 84,
     "metadata": {},
     "output_type": "execute_result"
    }
   ],
   "source": [
    "mod"
   ]
  },
  {
   "cell_type": "code",
   "execution_count": 1,
   "metadata": {
    "collapsed": false
   },
   "outputs": [],
   "source": [
    "import torch\n",
    "import EnsembleXAI.Metrics as M"
   ]
  },
  {
   "cell_type": "code",
   "execution_count": null,
   "metadata": {
    "collapsed": false
   },
   "outputs": [],
   "source": [
    "M.intersection_mask()"
   ]
  },
  {
   "cell_type": "code",
   "execution_count": 44,
   "metadata": {
    "collapsed": false
   },
   "outputs": [
    {
     "data": {
      "text/plain": [
       "tensor([[1., 0., 1.],\n",
       "        [0., 1., 0.],\n",
       "        [1., 0., 1.]])"
      ]
     },
     "execution_count": 44,
     "metadata": {},
     "output_type": "execute_result"
    }
   ],
   "source": [
    "cross_2d = torch.Tensor([[1, 0, 1], [0, 1, 0], [1, 0, 1]])\n",
    "cross_2d"
   ]
  },
  {
   "cell_type": "code",
   "execution_count": 46,
   "metadata": {
    "collapsed": false
   },
   "outputs": [
    {
     "data": {
      "text/plain": [
       "tensor([[0., 1., 0.],\n",
       "        [1., 1., 1.],\n",
       "        [0., 1., 0.]])"
      ]
     },
     "execution_count": 46,
     "metadata": {},
     "output_type": "execute_result"
    }
   ],
   "source": [
    "plus_2d = torch.Tensor([[0, 1, 0], [1, 1, 1], [0, 1, 0]])\n",
    "plus_2d"
   ]
  },
  {
   "cell_type": "code",
   "execution_count": 48,
   "metadata": {
    "collapsed": false
   },
   "outputs": [
    {
     "data": {
      "text/plain": [
       "torch.Tensor"
      ]
     },
     "execution_count": 48,
     "metadata": {},
     "output_type": "execute_result"
    }
   ],
   "source": [
    "M.intersection_mask(cross_2d, plus_2d)"
   ]
  },
  {
   "cell_type": "code",
   "execution_count": 52,
   "metadata": {
    "collapsed": false
   },
   "outputs": [
    {
     "data": {
      "text/plain": [
       "tensor([[True, True, True],\n",
       "        [True, True, True],\n",
       "        [True, True, True]])"
      ]
     },
     "execution_count": 52,
     "metadata": {},
     "output_type": "execute_result"
    }
   ],
   "source": [
    "M.union_mask(cross_2d, plus_2d)"
   ]
  },
  {
   "cell_type": "code",
   "execution_count": 53,
   "metadata": {
    "collapsed": false
   },
   "outputs": [],
   "source": [
    "cross_2d_small = 0.4*cross_2d\n",
    "plus_2d_small = 0.7*plus_2d\n",
    "M.intersection_mask(cross_2d_small, plus_2d_small, threshold1=0.5)"
   ]
  },
  {
   "cell_type": "code",
   "execution_count": 55,
   "metadata": {
    "collapsed": false
   },
   "outputs": [
    {
     "data": {
      "text/plain": [
       "tensor([[False, False, False],\n",
       "        [False, False, False],\n",
       "        [False, False, False]])"
      ]
     },
     "execution_count": 55,
     "metadata": {},
     "output_type": "execute_result"
    }
   ],
   "source": [
    "M.intersection_mask(cross_2d_small, plus_2d_small, threshold1=0.5)"
   ]
  },
  {
   "cell_type": "code",
   "execution_count": 58,
   "metadata": {
    "collapsed": false
   },
   "outputs": [
    {
     "data": {
      "text/plain": [
       "tensor([[ True, False,  True],\n",
       "        [False,  True, False],\n",
       "        [ True, False,  True]])"
      ]
     },
     "execution_count": 58,
     "metadata": {},
     "output_type": "execute_result"
    }
   ],
   "source": [
    "M.union_mask(cross_2d_small, plus_2d_small, threshold1=0.0, threshold2=0.8)"
   ]
  },
  {
   "cell_type": "code",
   "execution_count": 60,
   "metadata": {
    "collapsed": false
   },
   "outputs": [
    {
     "data": {
      "text/plain": [
       "torch.Size([2, 3, 5, 5])"
      ]
     },
     "execution_count": 60,
     "metadata": {},
     "output_type": "execute_result"
    }
   ],
   "source": [
    "torch.stack([torch.ones([3,5,5]), 0.5*torch.ones([3,5,5])]).shape"
   ]
  },
  {
   "cell_type": "code",
   "execution_count": 84,
   "metadata": {
    "collapsed": false
   },
   "outputs": [],
   "source": [
    "data = torch.stack([torch.ones(3, 5, 5), torch.zeros(3,5,5)])"
   ]
  },
  {
   "cell_type": "code",
   "execution_count": 90,
   "metadata": {
    "collapsed": false
   },
   "outputs": [],
   "source": [
    "ex_explanation = torch.Tensor([1, 0, 0, 0, 0]).repeat(2, 3, 5, 1)"
   ]
  },
  {
   "cell_type": "code",
   "execution_count": 86,
   "metadata": {
    "collapsed": false
   },
   "outputs": [
    {
     "data": {
      "text/plain": [
       "tensor(1.)"
      ]
     },
     "execution_count": 86,
     "metadata": {},
     "output_type": "execute_result"
    }
   ],
   "source": [
    "data[0,0,0,0]"
   ]
  },
  {
   "cell_type": "code",
   "execution_count": 94,
   "metadata": {
    "collapsed": false
   },
   "outputs": [],
   "source": [
    "def predictor(input_tensor):\n",
    "    n = input_tensor.shape[0]\n",
    "    if input_tensor[0,0,0,0].item() == 1:\n",
    "        val = torch.Tensor([0.8, 0.2, 0]).repeat(n, 1)\n",
    "    else:\n",
    "        val = torch.Tensor([0.2, 0.6, 0.2]).repeat(n, 1)\n",
    "    return val"
   ]
  },
  {
   "cell_type": "code",
   "execution_count": 88,
   "metadata": {
    "collapsed": false
   },
   "outputs": [
    {
     "data": {
      "text/plain": [
       "tensor([[0.8000, 0.2000, 0.0000],\n",
       "        [0.8000, 0.2000, 0.0000]])"
      ]
     },
     "execution_count": 88,
     "metadata": {},
     "output_type": "execute_result"
    }
   ],
   "source": [
    "predictor(data)"
   ]
  },
  {
   "cell_type": "code",
   "execution_count": 95,
   "metadata": {
    "collapsed": false
   },
   "outputs": [
    {
     "data": {
      "text/plain": [
       "0.19999998807907104"
      ]
     },
     "execution_count": 95,
     "metadata": {},
     "output_type": "execute_result"
    }
   ],
   "source": [
    "M.confidence_impact_ratio(data, predictor, ex_explanation, 0.5, 0)"
   ]
  },
  {
   "cell_type": "code",
   "execution_count": 109,
   "metadata": {
    "collapsed": false
   },
   "outputs": [],
   "source": [
    "cross_2d = torch.Tensor([[1, 0, 1], [0, 1, 0], [1, 0, 1]])\n",
    "plus_2d = torch.Tensor([[0, 1, 0], [1, 1, 1], [0, 1, 0]])\n",
    "a = torch.stack([cross_2d.repeat(3,1,1), plus_2d.repeat(3,1,1)])\n",
    "b = torch.stack([plus_2d, cross_2d])"
   ]
  },
  {
   "cell_type": "code",
   "execution_count": 110,
   "metadata": {
    "collapsed": false
   },
   "outputs": [
    {
     "data": {
      "text/plain": [
       "tensor([0.2000, 0.2000])"
      ]
     },
     "execution_count": 110,
     "metadata": {},
     "output_type": "execute_result"
    }
   ],
   "source": [
    "M.accordance_recall(a, b)"
   ]
  },
  {
   "cell_type": "code",
   "execution_count": 111,
   "metadata": {
    "collapsed": false
   },
   "outputs": [
    {
     "data": {
      "text/plain": [
       "tensor([0.2000, 0.2000])"
      ]
     },
     "execution_count": 111,
     "metadata": {},
     "output_type": "execute_result"
    }
   ],
   "source": [
    "M.accordance_precision(a, b)"
   ]
  },
  {
   "cell_type": "code",
   "execution_count": 113,
   "metadata": {
    "collapsed": false
   },
   "outputs": [
    {
     "data": {
      "text/plain": [
       "0.3333333432674408"
      ]
     },
     "execution_count": 113,
     "metadata": {},
     "output_type": "execute_result"
    }
   ],
   "source": [
    "M.intersection_over_union(a, b)"
   ]
  },
  {
   "cell_type": "code",
   "execution_count": 14,
   "metadata": {
    "collapsed": false
   },
   "outputs": [
    {
     "data": {
      "text/plain": [
       "tensor([0.8660, 0.8660, 0.8660, 0.8660])"
      ]
     },
     "execution_count": 14,
     "metadata": {},
     "output_type": "execute_result"
    }
   ],
   "source": [
    "images = torch.Tensor([0, 0.2, 0.4, 0.6, 0.8]).repeat(4,3,5,1)\n",
    "image = torch.Tensor([0.1, 0.3, 0.5, 0.7, 0.9]).repeat(3,5,1)\n",
    "M.matrix_2_norm(images, image, sum_dim=1)"
   ]
  },
  {
   "cell_type": "code",
   "execution_count": 15,
   "metadata": {
    "collapsed": false
   },
   "outputs": [
    {
     "data": {
      "text/plain": [
       "(tensor(120.), tensor(37.5000))"
      ]
     },
     "execution_count": 15,
     "metadata": {},
     "output_type": "execute_result"
    }
   ],
   "source": [
    "torch.sum(images), torch.sum(image)"
   ]
  },
  {
   "cell_type": "code",
   "execution_count": 17,
   "metadata": {
    "collapsed": false
   },
   "outputs": [],
   "source": [
    "def _explain_dummy(imagez_tensor):\n",
    "    summed = torch.sum(imagez_tensor)\n",
    "    n = imagez_tensor.shape[0]\n",
    "    if summed > 100:\n",
    "        explanation = torch.Tensor([0,0,0,1,1]).repeat(n, 3, 5, 1)\n",
    "    else:\n",
    "        explanation = torch.Tensor([0,0,1,1,0]).repeat(n, 3, 5, 1)\n",
    "    return explanation"
   ]
  },
  {
   "cell_type": "code",
   "execution_count": 18,
   "metadata": {
    "collapsed": false
   },
   "outputs": [
    {
     "data": {
      "text/plain": [
       "0.13370312750339508"
      ]
     },
     "execution_count": 18,
     "metadata": {},
     "output_type": "execute_result"
    }
   ],
   "source": [
    "M.stability(_explain_dummy, image, images, 1)"
   ]
  },
  {
   "cell_type": "markdown",
   "metadata": {
    "collapsed": false
   },
   "source": []
  }
 ],
 "metadata": {
  "kernelspec": {
   "display_name": "Python 3",
   "language": "python",
   "name": "python3"
  },
  "language_info": {
   "codemirror_mode": {
    "name": "ipython",
    "version": 2
   },
   "file_extension": ".py",
   "mimetype": "text/x-python",
   "name": "python",
   "nbconvert_exporter": "python",
   "pygments_lexer": "ipython2",
   "version": "2.7.6"
  }
 },
 "nbformat": 4,
 "nbformat_minor": 0
}
